{
 "cells": [
  {
   "cell_type": "markdown",
   "id": "4ea074f9",
   "metadata": {},
   "source": [
    "## QUESTION 1"
   ]
  },
  {
   "cell_type": "code",
   "execution_count": 16,
   "id": "dc148d46",
   "metadata": {},
   "outputs": [
    {
     "name": "stdout",
     "output_type": "stream",
     "text": [
      "The initial contents of the file before replacement is:\n",
      " \n",
      "This is a placement assignment\n"
     ]
    }
   ],
   "source": [
    "print(\"The initial contents of the file before replacement is:\\n \")\n",
    "file1 = open(\"example.txt\", \"r\") \n",
    "print(file1.read())"
   ]
  },
  {
   "cell_type": "code",
   "execution_count": 17,
   "id": "fa9a7ebe",
   "metadata": {},
   "outputs": [],
   "source": [
    "## NEW FUNCTION CREATED TO REPLACE ONLY SPECIFIC CONTENTS OF A FILE\n",
    "\n",
    "def fn1():\n",
    "    \n",
    "    # creating 2 variable to store the initial and final(replaced) contents from the file \n",
    "    # that we want to search\n",
    "    search_text = \"placement\"\n",
    "    replace_text = \"screening\"\n",
    "\n",
    "    # Opening our text file in read only\n",
    "    with open('example.txt', 'r') as file:\n",
    "\n",
    "        # Reading the content of the file by using the read() function and storing them in a new variable\n",
    "        data = file.read()\n",
    "\n",
    "        # Searching and replacing the text using the replace() function\n",
    "         \n",
    "        data = data.replace(search_text, replace_text)\n",
    "\n",
    "    #Opening our text file in write only\n",
    "    # mode to write the replaced content\n",
    "    with open('example.txt', 'w') as file:\n",
    "\n",
    "        # Writing the replaced data in our text file\n",
    "        file.write(data)\n",
    "\n",
    "    # Printing new file contents\n",
    "    print(\"The new replaced contents of the file is: \\n \")\n",
    "    file = open(\"example.txt\", \"r\") \n",
    "    print(file.read())\n"
   ]
  },
  {
   "cell_type": "code",
   "execution_count": 18,
   "id": "fd7d4b09",
   "metadata": {},
   "outputs": [
    {
     "name": "stdout",
     "output_type": "stream",
     "text": [
      "The new replaced contents of the file is: \n",
      " \n",
      "This is a screening assignment\n"
     ]
    }
   ],
   "source": [
    "fn1()"
   ]
  },
  {
   "cell_type": "code",
   "execution_count": null,
   "id": "237e2a95",
   "metadata": {},
   "outputs": [],
   "source": []
  },
  {
   "cell_type": "markdown",
   "id": "7849524c",
   "metadata": {},
   "source": [
    "## QUESTION 2"
   ]
  },
  {
   "cell_type": "code",
   "execution_count": 39,
   "id": "96b46648",
   "metadata": {},
   "outputs": [],
   "source": [
    "#method having only declaration but no definition is called abstract method and the \n",
    "#class inside which it is contained, the abstarct class\n",
    "\n",
    "#we import the module abc-abstract base module, which will take the particlar class as an abstract class\n",
    "from abc import ABC, abstractmethod   \n",
    "class Shape(ABC):\n",
    "    @abstractmethod #decorator\n",
    "    def area(self):\n",
    "        pass\n",
    "    @abstractmethod\n",
    "    def perimeter(self):\n",
    "        pass\n",
    "class Square(Shape):#shape is the superclass here \n",
    "    def __init__(self,side):\n",
    "        self.__side=side\n",
    "        \n"
   ]
  },
  {
   "cell_type": "markdown",
   "id": "34e0f360",
   "metadata": {},
   "source": [
    "#### NOW, I WANT TO DO ONE THING\n",
    "#### I dont want others to create instance of shape class due to some unforseen privacy reasons, we can achieve this by using decorator '@abstractmethod' of the inbuilt python module abc, which will make a particular class method as abstract, in turn not allowing you to create istances of it,  which is what we wanted "
   ]
  },
  {
   "cell_type": "code",
   "execution_count": 40,
   "id": "2492742e",
   "metadata": {},
   "outputs": [
    {
     "ename": "TypeError",
     "evalue": "Can't instantiate abstract class Shape with abstract methods area, perimeter",
     "output_type": "error",
     "traceback": [
      "\u001b[0;31m---------------------------------------------------------------------------\u001b[0m",
      "\u001b[0;31mTypeError\u001b[0m                                 Traceback (most recent call last)",
      "Input \u001b[0;32mIn [40]\u001b[0m, in \u001b[0;36m<cell line: 1>\u001b[0;34m()\u001b[0m\n\u001b[0;32m----> 1\u001b[0m shape\u001b[38;5;241m=\u001b[39m \u001b[43mShape\u001b[49m\u001b[43m(\u001b[49m\u001b[43m)\u001b[49m\n",
      "\u001b[0;31mTypeError\u001b[0m: Can't instantiate abstract class Shape with abstract methods area, perimeter"
     ]
    }
   ],
   "source": [
    "shape= Shape() #notice the error if i try to instantiate abstract class"
   ]
  },
  {
   "cell_type": "markdown",
   "id": "f2f4eee6",
   "metadata": {},
   "source": [
    "### we also cant pass a value during function calling statement because it is an abstract method of the class, so we need to provide the implementation(if any), inside the sub-class only, no ther choice"
   ]
  },
  {
   "cell_type": "code",
   "execution_count": 41,
   "id": "8622203d",
   "metadata": {},
   "outputs": [
    {
     "ename": "TypeError",
     "evalue": "Shape() takes no arguments",
     "output_type": "error",
     "traceback": [
      "\u001b[0;31m---------------------------------------------------------------------------\u001b[0m",
      "\u001b[0;31mTypeError\u001b[0m                                 Traceback (most recent call last)",
      "Input \u001b[0;32mIn [41]\u001b[0m, in \u001b[0;36m<cell line: 1>\u001b[0;34m()\u001b[0m\n\u001b[0;32m----> 1\u001b[0m square\u001b[38;5;241m=\u001b[39m \u001b[43mShape\u001b[49m\u001b[43m(\u001b[49m\u001b[38;5;241;43m5\u001b[39;49m\u001b[43m)\u001b[49m\n",
      "\u001b[0;31mTypeError\u001b[0m: Shape() takes no arguments"
     ]
    }
   ],
   "source": [
    "square= Shape(5) #notice the error"
   ]
  },
  {
   "cell_type": "code",
   "execution_count": 46,
   "id": "0630e004",
   "metadata": {},
   "outputs": [],
   "source": [
    "from abc import ABC, abstractmethod   \n",
    "class Shape(ABC):\n",
    "    @abstractmethod #decorator\n",
    "    def area(self):\n",
    "        pass\n",
    "    \n",
    "    def perimeter(self):\n",
    "        pass\n",
    "class Square(Shape):#shape is the superclass here \n",
    "    def __init__(self,side):\n",
    "        self.__side=side\n",
    "        \n",
    "    def area(self):\n",
    "        return self.__side*self.__side"
   ]
  },
  {
   "cell_type": "code",
   "execution_count": 48,
   "id": "c724e783",
   "metadata": {},
   "outputs": [],
   "source": [
    "square= Square(5) #now no error because we have instantiated everthing inside the sub-class(Square)\n",
    "\n",
    "#so for hiding un-essential and irrelevant features from the user, we use the concept of \n",
    "#abstraction contaning abstract classes and methods"
   ]
  },
  {
   "cell_type": "code",
   "execution_count": null,
   "id": "473ef661",
   "metadata": {},
   "outputs": [],
   "source": []
  },
  {
   "cell_type": "code",
   "execution_count": null,
   "id": "727a2f0a",
   "metadata": {},
   "outputs": [],
   "source": []
  },
  {
   "cell_type": "code",
   "execution_count": 25,
   "id": "ca87b4e3",
   "metadata": {},
   "outputs": [],
   "source": [
    "#MULTIPLE INHERITANCE - SITUATION WHERE A CLASS IS DERIVED FROM MORE THAN ONE BASE CLASSES, WHEREBY THE DERIVED CLASS INHERITS ALL FEATURES FROM ITS PARENT"
   ]
  },
  {
   "cell_type": "code",
   "execution_count": 27,
   "id": "790c8c6c",
   "metadata": {},
   "outputs": [],
   "source": [
    "class A:\n",
    "    def method(self):\n",
    "        print(\"A class method is called\")"
   ]
  },
  {
   "cell_type": "code",
   "execution_count": 28,
   "id": "f4f39fcc",
   "metadata": {},
   "outputs": [],
   "source": [
    "class B(A):\n",
    "    def method1(self):\n",
    "        print(\"B class method is called\")"
   ]
  },
  {
   "cell_type": "code",
   "execution_count": 29,
   "id": "74032e11",
   "metadata": {},
   "outputs": [],
   "source": [
    "class C(A):\n",
    "    def method1(self):\n",
    "        print(\"C class method is called\")"
   ]
  },
  {
   "cell_type": "code",
   "execution_count": 33,
   "id": "b4461a35",
   "metadata": {},
   "outputs": [],
   "source": [
    "#base(parent) class is b and c and d- child class is inheriting features from those classes,\n",
    "#so multiple inheritance is being achieved\n",
    "class D(B,C):\n",
    "    def method1(self):\n",
    "        print(\"D class method is called\")\n",
    "        C.method1(self)\n",
    "        \n",
    "        \n",
    "    "
   ]
  },
  {
   "cell_type": "code",
   "execution_count": 34,
   "id": "2abc8eaa",
   "metadata": {},
   "outputs": [
    {
     "name": "stdout",
     "output_type": "stream",
     "text": [
      "D class method is called\n",
      "C class method is called\n"
     ]
    }
   ],
   "source": [
    "d=D()\n",
    "d.method1() #this will by default call the method(of that name) present in the child class, if any"
   ]
  },
  {
   "cell_type": "code",
   "execution_count": 35,
   "id": "7786d022",
   "metadata": {},
   "outputs": [
    {
     "name": "stdout",
     "output_type": "stream",
     "text": [
      "B class method is called\n"
     ]
    }
   ],
   "source": [
    "#to call a method present in the parent class\n",
    "B.method1(d) #mention the object of the child class to do so"
   ]
  },
  {
   "cell_type": "code",
   "execution_count": null,
   "id": "6b8866ef",
   "metadata": {},
   "outputs": [],
   "source": []
  },
  {
   "cell_type": "code",
   "execution_count": null,
   "id": "02caca52",
   "metadata": {},
   "outputs": [],
   "source": []
  },
  {
   "cell_type": "code",
   "execution_count": 36,
   "id": "abe80ee1",
   "metadata": {},
   "outputs": [],
   "source": [
    "#Decorators in python are used to add extra featues in existing fucntions in python\n",
    "#inside a function, we can also give a parameter of function without giving a variable\n",
    "def main_welcome(func):\n",
    "    def sub_welcome_fn():\n",
    "        print(\"Hello\")\n",
    "        func()\n",
    "        print(\"Welcome\")\n",
    "    return sub_welcome_fn()   "
   ]
  },
  {
   "cell_type": "code",
   "execution_count": 22,
   "id": "767ef96e",
   "metadata": {},
   "outputs": [],
   "source": [
    "def channel_name():\n",
    "    print(\"This is my channel\")"
   ]
  },
  {
   "cell_type": "code",
   "execution_count": 23,
   "id": "d1de45fa",
   "metadata": {},
   "outputs": [
    {
     "name": "stdout",
     "output_type": "stream",
     "text": [
      "Hello\n",
      "This is my channel\n",
      "Welcome\n"
     ]
    }
   ],
   "source": [
    "main_welcome(channel_name)"
   ]
  },
  {
   "cell_type": "markdown",
   "id": "e73ff725",
   "metadata": {},
   "source": [
    "##### so this is decorators concept where we are calling function within a function(decorator function - here , main_welcome()) and also we are passing function as a parameter\n",
    "\n",
    "##### We can also implement decorators using the '@' symbol which is used to call the created decorator function without creating a speprate function call statement for it."
   ]
  },
  {
   "cell_type": "code",
   "execution_count": 24,
   "id": "a5c15fb7",
   "metadata": {},
   "outputs": [
    {
     "name": "stdout",
     "output_type": "stream",
     "text": [
      "Hello\n",
      "This is my channel\n",
      "Welcome\n"
     ]
    }
   ],
   "source": [
    "#Decorators in python are used to add extra featues in existing fucntions in python\n",
    "#inside a function, we can also give a parameter of function without giving a variable\n",
    "def main_welcome(func):\n",
    "    def sub_welcome_fn():\n",
    "        print(\"Hello\")\n",
    "        func()\n",
    "        print(\"Welcome\")\n",
    "    return sub_welcome_fn() \n",
    "\n",
    "@main_welcome\n",
    "def channel_name():\n",
    "    print(\"This is my channel\")"
   ]
  },
  {
   "cell_type": "markdown",
   "id": "668c0012",
   "metadata": {},
   "source": [
    "##### With decorators, we have the ability to give a particualar function(here - channel_name()) access to the other functions it is associatd with(main_welcome())\n",
    "\n"
   ]
  },
  {
   "cell_type": "code",
   "execution_count": null,
   "id": "e6864d58",
   "metadata": {},
   "outputs": [],
   "source": []
  }
 ],
 "metadata": {
  "kernelspec": {
   "display_name": "Python 3 (ipykernel)",
   "language": "python",
   "name": "python3"
  },
  "language_info": {
   "codemirror_mode": {
    "name": "ipython",
    "version": 3
   },
   "file_extension": ".py",
   "mimetype": "text/x-python",
   "name": "python",
   "nbconvert_exporter": "python",
   "pygments_lexer": "ipython3",
   "version": "3.10.0"
  }
 },
 "nbformat": 4,
 "nbformat_minor": 5
}
