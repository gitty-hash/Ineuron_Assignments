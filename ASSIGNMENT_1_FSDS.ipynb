{
 "cells": [
  {
   "cell_type": "markdown",
   "id": "35eee2a4",
   "metadata": {},
   "source": [
    "## Question 1"
   ]
  },
  {
   "cell_type": "markdown",
   "id": "7c8a0f59",
   "metadata": {},
   "source": [
    "From all these 7 options,\n",
    "\n",
    "*, -, /, + are expressions(math operators)\n",
    "\n",
    "-87.8, \"hello\", 6 - is a value(float datatype), string and value respe ctively\n"
   ]
  },
  {
   "cell_type": "markdown",
   "id": "586c2fe1",
   "metadata": {},
   "source": [
    "## Question 2"
   ]
  },
  {
   "cell_type": "markdown",
   "id": "3547e098",
   "metadata": {},
   "source": [
    "1)\n",
    "The difference is String is a collection/combination of different characters or tokens, which are basically the smallest individual units that exists in python language, whereas variables are named memory locations given by the programmer/user to the system\n",
    "\n",
    "2)\n",
    "String is enclosed within single or double quotes, whereas  variables are not enclosed.\n",
    "\n",
    "3)\n",
    "Variables cant be only numerical(ex:2=45) but on the other hand, anything can be considered as string :alphabets, mathematical operators, numbers, symbols etc(as long as it is enclosed within quotes)\n",
    "\n",
    "4) Variables are used to store data, whereas string datatype doesnt store any data \n",
    "\n",
    "5)\n",
    "Whenever 2 variables are combined with \"+\" sign, there may or may not be an error that is thrown, depending on the datatype of those 2 variables and whether those data are compatible with each other or not\n",
    "\n",
    "Ex1:\n",
    "a,b=4,6 \n",
    "c = a+b\n",
    "This will not throw an error\n",
    "\n"
   ]
  },
  {
   "cell_type": "code",
   "execution_count": 15,
   "id": "52f94dc6",
   "metadata": {},
   "outputs": [
    {
     "ename": "SyntaxError",
     "evalue": "invalid syntax (<ipython-input-15-cdc8ee31604a>, line 1)",
     "output_type": "error",
     "traceback": [
      "\u001b[0;36m  File \u001b[0;32m\"<ipython-input-15-cdc8ee31604a>\"\u001b[0;36m, line \u001b[0;32m1\u001b[0m\n\u001b[0;31m    Ex1:\u001b[0m\n\u001b[0m        ^\u001b[0m\n\u001b[0;31mSyntaxError\u001b[0m\u001b[0;31m:\u001b[0m invalid syntax\n"
     ]
    }
   ],
   "source": [
    "Ex1:\n",
    "g=\"hello\"\n",
    "m=78\n",
    "l=g+m\n",
    "\n",
    "# but this thows a syntax error due to incompatibility of datatypes"
   ]
  },
  {
   "cell_type": "markdown",
   "id": "5a387d7f",
   "metadata": {},
   "source": [
    "Whenever 2 string are combined with \"+\" sign, they get concatenated without displaying any error\n"
   ]
  },
  {
   "cell_type": "code",
   "execution_count": 16,
   "id": "0943379b",
   "metadata": {},
   "outputs": [
    {
     "data": {
      "text/plain": [
       "'iNeuron'"
      ]
     },
     "execution_count": 16,
     "metadata": {},
     "output_type": "execute_result"
    }
   ],
   "source": [
    "# Ex:\n",
    "\"i\" + \"Neuron\" "
   ]
  },
  {
   "cell_type": "markdown",
   "id": "61097e32",
   "metadata": {},
   "source": [
    "## Question 3"
   ]
  },
  {
   "cell_type": "markdown",
   "id": "61e03d9e",
   "metadata": {},
   "source": [
    "3 datatypes:-\n",
    "\n",
    "String :-They are the collection/combination of different characters or tokens, which are basically the smallest individual units that exists in python language, enclosed within quotes. Ex :\"Data\" \n",
    "\n",
    "Integers :- They include only the numerical data, positive or negative whole numbers(including 0), which do not have fractional part. Ex:90\n",
    "\n",
    "Float:- The float type in Python represents the floating point number, which are a type of numerical datatype which may or may not consists of a fractional or exponential part. They occupy a more memory space than the Integer datatype. Ex: 90.88"
   ]
  },
  {
   "cell_type": "markdown",
   "id": "b516f09f",
   "metadata": {},
   "source": [
    "## Question 4"
   ]
  },
  {
   "cell_type": "markdown",
   "id": "8f191c4d",
   "metadata": {},
   "source": [
    "An expression is actually an amalgamation of operators and operands that is either used for producing a feasible outcome, which may or may not be stored in a variable . It may be utilized for a string, character or a numerical datatype.\n",
    "\n",
    "Their main pivotal function is to perform a certain task in order to produce a sustainable and workable outcome.\n"
   ]
  },
  {
   "cell_type": "code",
   "execution_count": 17,
   "id": "4ddd5675",
   "metadata": {},
   "outputs": [
    {
     "name": "stdout",
     "output_type": "stream",
     "text": [
      "hello World\n"
     ]
    }
   ],
   "source": [
    "# EXAMPLE of Line 1,2,3 for expression below:\n",
    "\n",
    "a= \"hello\"\n",
    "b = \" World\"\n",
    "c = a+b\n",
    "print(c)"
   ]
  },
  {
   "cell_type": "markdown",
   "id": "1674eadd",
   "metadata": {},
   "source": [
    "## Question 5"
   ]
  },
  {
   "cell_type": "markdown",
   "id": "558baf87",
   "metadata": {},
   "source": [
    "An expression is actually an amalgamation of operators and operands, which evluate something in order to produce a result, but statement is instruction that a Python interpreter executes, basically ,we can say anything written in Python is a statement.\n",
    "ex:c=7+8\n",
    "\n",
    "Those scripts can be called statements that can be used for assigning values to a variables, whereas expressions cannot.\n",
    "ex:a=10\n",
    "\n",
    "Those scripts can be called statements that are used for declaring or instantiating a variable's type whereas expressions cannot.\n",
    "ex: lst = []\n",
    "\n",
    "In this assignment statement, spam = 10 here the variable spam is been declared and assigned a integer value of 10 and since no mathematical operation is included, thats why spam =10 is not an expression"
   ]
  },
  {
   "cell_type": "markdown",
   "id": "01ea95f2",
   "metadata": {},
   "source": [
    "## Question 6"
   ]
  },
  {
   "cell_type": "code",
   "execution_count": 18,
   "id": "434cb1b2",
   "metadata": {},
   "outputs": [
    {
     "data": {
      "text/plain": [
       "23"
      ]
     },
     "execution_count": 18,
     "metadata": {},
     "output_type": "execute_result"
    }
   ],
   "source": [
    "bacon = 22\n",
    "bacon+1\n"
   ]
  },
  {
   "cell_type": "code",
   "execution_count": 19,
   "id": "574b8b0c",
   "metadata": {},
   "outputs": [],
   "source": [
    "#bacon value is 23"
   ]
  },
  {
   "cell_type": "markdown",
   "id": "03cd2693",
   "metadata": {},
   "source": [
    "## Question 7"
   ]
  },
  {
   "cell_type": "code",
   "execution_count": 20,
   "id": "947d41d8",
   "metadata": {},
   "outputs": [
    {
     "data": {
      "text/plain": [
       "'spamspamspam'"
      ]
     },
     "execution_count": 20,
     "metadata": {},
     "output_type": "execute_result"
    }
   ],
   "source": [
    "'spam'+'spamspam'"
   ]
  },
  {
   "cell_type": "code",
   "execution_count": 21,
   "id": "439ce422",
   "metadata": {},
   "outputs": [
    {
     "data": {
      "text/plain": [
       "'spamspamspam'"
      ]
     },
     "execution_count": 21,
     "metadata": {},
     "output_type": "execute_result"
    }
   ],
   "source": [
    "'spam'*3"
   ]
  },
  {
   "cell_type": "code",
   "execution_count": null,
   "id": "0439b4fb",
   "metadata": {},
   "outputs": [],
   "source": [
    "#both give same output, but in first case the 2 strings are concatenated and in second ase, \n",
    "#the entire string is duplicated by 3 times and then concatenated "
   ]
  },
  {
   "cell_type": "markdown",
   "id": "c6f968b4",
   "metadata": {},
   "source": [
    "## Question 8"
   ]
  },
  {
   "cell_type": "markdown",
   "id": "3b182137",
   "metadata": {},
   "source": [
    "Variable names can start with or entirely be in text form, but the same is not applicable wrt numbers. Variable names in python are not allowed and considered invalid, to start with or be numerical, so thats the reason why \"eggs\" ,being textual, has valid variable name while 100 is invalid."
   ]
  },
  {
   "cell_type": "markdown",
   "id": "128d1262",
   "metadata": {},
   "source": [
    "## QUESTION 9"
   ]
  },
  {
   "cell_type": "markdown",
   "id": "93908b45",
   "metadata": {},
   "source": [
    "int() , float() , and str( ) functions respectively"
   ]
  },
  {
   "cell_type": "markdown",
   "id": "cdcc8405",
   "metadata": {},
   "source": [
    "Since numbers cannot be concatenated unlike string but only added, so if a number is placed in between strings, it will obviously show an error.  "
   ]
  },
  {
   "cell_type": "code",
   "execution_count": 26,
   "id": "f1860946",
   "metadata": {},
   "outputs": [
    {
     "ename": "TypeError",
     "evalue": "can only concatenate str (not \"int\") to str",
     "output_type": "error",
     "traceback": [
      "\u001b[0;31m---------------------------------------------------------------------------\u001b[0m",
      "\u001b[0;31mTypeError\u001b[0m                                 Traceback (most recent call last)",
      "\u001b[0;32m<ipython-input-26-f3e49bc1ef90>\u001b[0m in \u001b[0;36m<module>\u001b[0;34m\u001b[0m\n\u001b[0;32m----> 1\u001b[0;31m \u001b[0;34m'I have eaten'\u001b[0m\u001b[0;34m+\u001b[0m \u001b[0;36m99\u001b[0m \u001b[0;34m+\u001b[0m\u001b[0;34m'burritos'\u001b[0m\u001b[0;34m\u001b[0m\u001b[0;34m\u001b[0m\u001b[0m\n\u001b[0m",
      "\u001b[0;31mTypeError\u001b[0m: can only concatenate str (not \"int\") to str"
     ]
    }
   ],
   "source": [
    "'I have eaten'+ 99 +'burritos'"
   ]
  },
  {
   "cell_type": "markdown",
   "id": "4bbbfb65",
   "metadata": {},
   "source": [
    "Error can be resolved by either deleting the number 99, or enclosing the number 99 within quotes, so that interpreter considers that as a string(and not integer) and it can be sucessfully concatenated to give one complete sentence(string)."
   ]
  },
  {
   "cell_type": "code",
   "execution_count": 27,
   "id": "0311444b",
   "metadata": {},
   "outputs": [
    {
     "data": {
      "text/plain": [
       "'I have eaten 99 burritos'"
      ]
     },
     "execution_count": 27,
     "metadata": {},
     "output_type": "execute_result"
    }
   ],
   "source": [
    "'I have eaten'+' 99 '+'burritos'"
   ]
  },
  {
   "cell_type": "code",
   "execution_count": null,
   "id": "63e00000",
   "metadata": {},
   "outputs": [],
   "source": []
  }
 ],
 "metadata": {
  "kernelspec": {
   "display_name": "Python 3",
   "language": "python",
   "name": "python3"
  },
  "language_info": {
   "codemirror_mode": {
    "name": "ipython",
    "version": 3
   },
   "file_extension": ".py",
   "mimetype": "text/x-python",
   "name": "python",
   "nbconvert_exporter": "python",
   "pygments_lexer": "ipython3",
   "version": "3.8.8"
  }
 },
 "nbformat": 4,
 "nbformat_minor": 5
}
