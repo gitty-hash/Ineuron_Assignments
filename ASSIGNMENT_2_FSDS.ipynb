{
 "cells": [
  {
   "cell_type": "markdown",
   "id": "c503f71d",
   "metadata": {},
   "source": [
    "## QN1 "
   ]
  },
  {
   "cell_type": "markdown",
   "id": "969c3a85",
   "metadata": {},
   "source": [
    " True and False are 2 values of boolean datatype. They can either be used within conditional statements or loops.\n",
    "Value of True is 1 and of False it is 0"
   ]
  },
  {
   "cell_type": "code",
   "execution_count": 2,
   "id": "72988dc7",
   "metadata": {},
   "outputs": [
    {
     "data": {
      "text/plain": [
       "2"
      ]
     },
     "execution_count": 2,
     "metadata": {},
     "output_type": "execute_result"
    }
   ],
   "source": [
    "True + True #1+1"
   ]
  },
  {
   "cell_type": "code",
   "execution_count": 3,
   "id": "0c8c6aff",
   "metadata": {},
   "outputs": [
    {
     "data": {
      "text/plain": [
       "1"
      ]
     },
     "execution_count": 3,
     "metadata": {},
     "output_type": "execute_result"
    }
   ],
   "source": [
    "True + False #0+1"
   ]
  },
  {
   "cell_type": "code",
   "execution_count": 7,
   "id": "830fb53b",
   "metadata": {},
   "outputs": [],
   "source": [
    "#use of boolean in conditional statement\n",
    "def compare(a,b):\n",
    "    if a==b:\n",
    "        return True\n",
    "    else:\n",
    "        return False\n",
    "\n"
   ]
  },
  {
   "cell_type": "code",
   "execution_count": 8,
   "id": "440660f0",
   "metadata": {},
   "outputs": [
    {
     "data": {
      "text/plain": [
       "False"
      ]
     },
     "execution_count": 8,
     "metadata": {},
     "output_type": "execute_result"
    }
   ],
   "source": [
    "compare(6,7)"
   ]
  },
  {
   "cell_type": "markdown",
   "id": "93fbb91c",
   "metadata": {},
   "source": [
    "## QN2"
   ]
  },
  {
   "cell_type": "markdown",
   "id": "71f3d72c",
   "metadata": {},
   "source": [
    "Three different types of Boolean operators are AND, OR, NOT"
   ]
  },
  {
   "cell_type": "markdown",
   "id": "af1b4bf2",
   "metadata": {},
   "source": [
    "## QN3"
   ]
  },
  {
   "cell_type": "markdown",
   "id": "ae705313",
   "metadata": {},
   "source": [
    "Below is representation of AND operator for 2 inputs(conditions)\n",
    "\n",
    "T- true; F-False\n",
    "\n",
    "i/p 1   i/p 2   o/p\n",
    " F        F      F\n",
    " F        T      F\n",
    " T        F      F\n",
    " T        T      T"
   ]
  },
  {
   "cell_type": "markdown",
   "id": "23a227fb",
   "metadata": {},
   "source": [
    "Below is representation of OR operator for 2 inputs(conditions)\n",
    "\n",
    "T- true; F-False\n",
    "\n",
    "i/p 1   i/p 2   o/p\n",
    " F        F      F\n",
    " F        T      T\n",
    " T        F      T\n",
    " T        T      T"
   ]
  },
  {
   "cell_type": "markdown",
   "id": "8cbaeb90",
   "metadata": {},
   "source": [
    "Below is representation of NOT(negation) operator for 2 inputs(conditions)\n",
    "\n",
    "T- true; F-False\n",
    "\n",
    "i/p       o/p\n",
    " F         T\n",
    " T         F\n",
    "        "
   ]
  },
  {
   "cell_type": "markdown",
   "id": "8963c5d4",
   "metadata": {},
   "source": [
    "## Q4"
   ]
  },
  {
   "cell_type": "markdown",
   "id": "2ce91ff6",
   "metadata": {},
   "source": [
    "1. 5>4 IS t and 3==5 is f, so t AND operation f, answer is False\n",
    "\n",
    "2. 5>4 is t and NOT(negation) of that is f, so answer is False\n",
    "\n",
    "3. 5>4 IS t and 3==5 is f, so t OR operation f, answer is True\n",
    "\n",
    "4. 5>4 IS t, so NOT of that is f. 3==5 is f, so f OR operation f, answer is False\n",
    "\n",
    "5. t and t is True, True==False is False. so True AND operation False, answer is False\n",
    "\n",
    "6. not False is True, not True is False, t OR operation f, answer is True"
   ]
  },
  {
   "cell_type": "markdown",
   "id": "98ba2bda",
   "metadata": {},
   "source": [
    "## Q5"
   ]
  },
  {
   "cell_type": "markdown",
   "id": "087e8f09",
   "metadata": {},
   "source": [
    "> -- greater than\n",
    "< -- lesser than\n",
    "== -- Equal to: True if both operands are equal\n",
    "!= -- Not equals to\n",
    ">= -- greater than or equal to\n",
    "<= --lesser than or equals to"
   ]
  },
  {
   "cell_type": "markdown",
   "id": "d3fd4f81",
   "metadata": {},
   "source": [
    "## Q6"
   ]
  },
  {
   "cell_type": "markdown",
   "id": "cceb90e0",
   "metadata": {},
   "source": [
    "equal to sign(=) is an assignment operator\n",
    "double equal to(==) is a comparison operator\n",
    "\n",
    "equal to sign(=) does not return anything, as it is a statement\n",
    "double equal to(==) returns a boolean value(True or False), as it is a conditional expression.\n",
    "\n"
   ]
  },
  {
   "cell_type": "code",
   "execution_count": 12,
   "id": "ba37259a",
   "metadata": {},
   "outputs": [],
   "source": [
    "#assigning float value of 6.9 to variable \"m\" - equal to \n",
    "m=6.9 "
   ]
  },
  {
   "cell_type": "code",
   "execution_count": 15,
   "id": "4f50e086",
   "metadata": {},
   "outputs": [
    {
     "data": {
      "text/plain": [
       "False"
      ]
     },
     "execution_count": 15,
     "metadata": {},
     "output_type": "execute_result"
    }
   ],
   "source": [
    "#double equal to sign \n",
    "s=9.8\n",
    "h=9.89 \n",
    "\n",
    "s==h  #Boolean False is returned "
   ]
  },
  {
   "cell_type": "markdown",
   "id": "338a03c9",
   "metadata": {},
   "source": [
    "## Q7"
   ]
  },
  {
   "cell_type": "code",
   "execution_count": 16,
   "id": "02c5e736",
   "metadata": {},
   "outputs": [
    {
     "name": "stdout",
     "output_type": "stream",
     "text": [
      "ham\n",
      "spam\n",
      "spam\n"
     ]
    }
   ],
   "source": [
    "#the 3 blocks segregated along with the final output\n",
    "spam=0\n",
    "if spam ==10:\n",
    "    print('eggs')\n",
    "if spam>5:\n",
    "    print('bacon')\n",
    "else:\n",
    "    print('ham')\n",
    "    print('spam')\n",
    "    print('spam')\n",
    "    "
   ]
  },
  {
   "cell_type": "markdown",
   "id": "dcb78c88",
   "metadata": {},
   "source": [
    "## Q8"
   ]
  },
  {
   "cell_type": "code",
   "execution_count": 21,
   "id": "2fe02acd",
   "metadata": {},
   "outputs": [
    {
     "name": "stdout",
     "output_type": "stream",
     "text": [
      "1\n",
      "Hello\n"
     ]
    }
   ],
   "source": [
    "spam = int(input())\n",
    "if spam==1:\n",
    "    print(\"Hello\")\n",
    "elif spam==2:\n",
    "    print(\"Howdy\")\n",
    "else:\n",
    "    print(\"Greetings!\")"
   ]
  },
  {
   "cell_type": "code",
   "execution_count": 22,
   "id": "6c38b16a",
   "metadata": {},
   "outputs": [
    {
     "name": "stdout",
     "output_type": "stream",
     "text": [
      "5\n",
      "Greetings!\n"
     ]
    }
   ],
   "source": [
    "spam = int(input())\n",
    "if spam==1:\n",
    "    print(\"Hello\")\n",
    "    \n",
    "elif spam==2:\n",
    "    print(\"Howdy\")\n",
    "    \n",
    "else:\n",
    "    print(\"Greetings!\")"
   ]
  },
  {
   "cell_type": "markdown",
   "id": "5e45834d",
   "metadata": {},
   "source": [
    "## Q9"
   ]
  },
  {
   "cell_type": "markdown",
   "id": "7c985751",
   "metadata": {},
   "source": [
    "Ctrl + C in windows and Command + C in mac"
   ]
  },
  {
   "cell_type": "markdown",
   "id": "50447dc1",
   "metadata": {},
   "source": [
    "## Q10"
   ]
  },
  {
   "cell_type": "markdown",
   "id": "fa18fd40",
   "metadata": {},
   "source": [
    "Both are keywords in python\n",
    "\n",
    "break is used to quit/exit completely from the current loop and move on to the next line written outside of that loop\n",
    "\n",
    "continue skips the rest of the loop statement(that is written below the continue statement) and starts the next iteration of the loop, without quitting the whole loop iteration"
   ]
  },
  {
   "cell_type": "code",
   "execution_count": 48,
   "id": "9d6750d6",
   "metadata": {},
   "outputs": [
    {
     "name": "stdout",
     "output_type": "stream",
     "text": [
      "s\n",
      "a\n",
      "Out of loop\n"
     ]
    }
   ],
   "source": [
    "s=\"sample\"\n",
    "for i in s:\n",
    "    print(i) \n",
    "    if i=='a' or i=='p':\n",
    "        break\n",
    "print(\"Out of loop\") \n",
    "\n",
    "\n",
    "#output below means as soon as the interpreter encounters either \"a\" or \"p\", exit from the loop and print \n",
    "#all other words present before that(including the target letter)   "
   ]
  },
  {
   "cell_type": "code",
   "execution_count": 57,
   "id": "2732886b",
   "metadata": {},
   "outputs": [
    {
     "name": "stdout",
     "output_type": "stream",
     "text": [
      "0\n",
      "1\n",
      "2\n",
      "3\n",
      "4\n",
      "5\n",
      "7\n",
      "8\n"
     ]
    }
   ],
   "source": [
    "for l in range(0,9):\n",
    "    \n",
    "    if l==6:\n",
    "        continue  \n",
    "    print(l)  \n"
   ]
  },
  {
   "cell_type": "markdown",
   "id": "cd22bf20",
   "metadata": {},
   "source": [
    "output above means whenever interpreter encounters number 6, ignore all statements written below it, ie: the print statement and pass on control to the start of the loop, so thats why except no.6, all other numbers in range(0,9) is printed  "
   ]
  },
  {
   "cell_type": "markdown",
   "id": "cb3a1fac",
   "metadata": {},
   "source": [
    "## Q11"
   ]
  },
  {
   "cell_type": "markdown",
   "id": "670e7d39",
   "metadata": {},
   "source": [
    "In a for loop, \n",
    "\n",
    "range(10) iterates from 0 - start limit till 9(one number ahead of 10) - end limit, as it takes 0 as by default the start point in every range fn, unless a parameter(start limit) is given\n",
    "\n",
    "range(0,10) also iterates from 0 till 9, as 0 being the start limit and 9(one number ahead of 10) being the end limit\n",
    "\n",
    "range(0,10,1) also iterates from 0 till 9, as 0 being the start limit and 9(one number ahead of 10) being the end limit with a step size of 1, which is the by-default step size of for loop in python"
   ]
  },
  {
   "cell_type": "markdown",
   "id": "3d98cdf7",
   "metadata": {},
   "source": [
    "## Q12"
   ]
  },
  {
   "cell_type": "code",
   "execution_count": 61,
   "id": "199dbdec",
   "metadata": {},
   "outputs": [
    {
     "name": "stdout",
     "output_type": "stream",
     "text": [
      "1\n",
      "2\n",
      "3\n",
      "4\n",
      "5\n",
      "6\n",
      "7\n",
      "8\n",
      "9\n",
      "10\n"
     ]
    }
   ],
   "source": [
    "for i in range(1,11):\n",
    "    print(i)"
   ]
  },
  {
   "cell_type": "code",
   "execution_count": 1,
   "id": "1714cbeb",
   "metadata": {},
   "outputs": [
    {
     "name": "stdout",
     "output_type": "stream",
     "text": [
      "1\n",
      "2\n",
      "3\n",
      "4\n",
      "5\n",
      "6\n",
      "7\n",
      "8\n",
      "9\n",
      "10\n"
     ]
    }
   ],
   "source": [
    "i=1\n",
    "while i<=10:\n",
    "    print(i)\n",
    "    i = i+1\n",
    "    "
   ]
  },
  {
   "cell_type": "markdown",
   "id": "cc35079f",
   "metadata": {},
   "source": [
    "## Q13"
   ]
  },
  {
   "cell_type": "code",
   "execution_count": null,
   "id": "0d16b5ef",
   "metadata": {},
   "outputs": [],
   "source": [
    "import spam\n",
    "\n",
    "#I would call it like this:- \n",
    "spam.bacon()"
   ]
  }
 ],
 "metadata": {
  "kernelspec": {
   "display_name": "Python 3",
   "language": "python",
   "name": "python3"
  },
  "language_info": {
   "codemirror_mode": {
    "name": "ipython",
    "version": 3
   },
   "file_extension": ".py",
   "mimetype": "text/x-python",
   "name": "python",
   "nbconvert_exporter": "python",
   "pygments_lexer": "ipython3",
   "version": "3.8.8"
  }
 },
 "nbformat": 4,
 "nbformat_minor": 5
}
