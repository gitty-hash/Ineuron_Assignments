{
 "cells": [
  {
   "cell_type": "code",
   "execution_count": null,
   "id": "cf491519",
   "metadata": {},
   "outputs": [],
   "source": [
    "#1"
   ]
  },
  {
   "cell_type": "markdown",
   "id": "760afb29",
   "metadata": {},
   "source": [
    "Escape characters are those charactrs that are not possible to be executed from within the keyboard.Basically, to insert characters that are illegal in a string, use an escape character"
   ]
  },
  {
   "cell_type": "markdown",
   "id": "b99ca60d",
   "metadata": {},
   "source": [
    "Its is always followed by a backslash '\\'"
   ]
  },
  {
   "cell_type": "code",
   "execution_count": 1,
   "id": "5135a13a",
   "metadata": {},
   "outputs": [
    {
     "name": "stdout",
     "output_type": "stream",
     "text": [
      "This is\n",
      " very good\n"
     ]
    }
   ],
   "source": [
    "print(\"This is\\n very good\") #\\n-newline"
   ]
  },
  {
   "cell_type": "code",
   "execution_count": null,
   "id": "862be58b",
   "metadata": {},
   "outputs": [],
   "source": [
    "#2"
   ]
  },
  {
   "cell_type": "markdown",
   "id": "06006ec4",
   "metadata": {},
   "source": [
    "n-newline; t-tab(multiple spaces)"
   ]
  },
  {
   "cell_type": "code",
   "execution_count": 2,
   "id": "d9209b76",
   "metadata": {},
   "outputs": [],
   "source": [
    "#3"
   ]
  },
  {
   "cell_type": "markdown",
   "id": "7b487e06",
   "metadata": {},
   "source": [
    "The single quote in Howl's is fine because you've used double quotes to mark the beginning and end of the string."
   ]
  },
  {
   "cell_type": "code",
   "execution_count": 3,
   "id": "9ab63e23",
   "metadata": {},
   "outputs": [],
   "source": [
    "#4"
   ]
  },
  {
   "cell_type": "markdown",
   "id": "7c59107a",
   "metadata": {},
   "source": [
    "Multiline strings allow you to use newlines in strings without the \\n escape character."
   ]
  },
  {
   "cell_type": "code",
   "execution_count": 9,
   "id": "4689f0d5",
   "metadata": {},
   "outputs": [],
   "source": [
    "#5"
   ]
  },
  {
   "cell_type": "code",
   "execution_count": 10,
   "id": "e45c9f8c",
   "metadata": {},
   "outputs": [
    {
     "name": "stdout",
     "output_type": "stream",
     "text": [
      "He is beautiful \n",
      " as well as charming\n"
     ]
    }
   ],
   "source": [
    "print('''He is beautiful \n",
    " as well as charming''')\n"
   ]
  },
  {
   "cell_type": "code",
   "execution_count": 11,
   "id": "6d726b6f",
   "metadata": {},
   "outputs": [],
   "source": [
    "#6"
   ]
  },
  {
   "cell_type": "code",
   "execution_count": 12,
   "id": "2edb0da4",
   "metadata": {},
   "outputs": [
    {
     "data": {
      "text/plain": [
       "'e'"
      ]
     },
     "execution_count": 12,
     "metadata": {},
     "output_type": "execute_result"
    }
   ],
   "source": [
    "'Hello world!'[1] #first index=2nd character"
   ]
  },
  {
   "cell_type": "code",
   "execution_count": 13,
   "id": "0a229be2",
   "metadata": {},
   "outputs": [
    {
     "name": "stderr",
     "output_type": "stream",
     "text": [
      "<>:1: SyntaxWarning: str indices must be integers or slices, not float; perhaps you missed a comma?\n",
      "<>:1: SyntaxWarning: str indices must be integers or slices, not float; perhaps you missed a comma?\n",
      "/var/folders/0n/vr0156r97pn7qh2v8sj2bfq40000gn/T/ipykernel_15901/4281931627.py:1: SyntaxWarning: str indices must be integers or slices, not float; perhaps you missed a comma?\n",
      "  'Hello world!'[0.5]\n",
      "/var/folders/0n/vr0156r97pn7qh2v8sj2bfq40000gn/T/ipykernel_15901/4281931627.py:1: SyntaxWarning: str indices must be integers or slices, not float; perhaps you missed a comma?\n",
      "  'Hello world!'[0.5]\n",
      "/var/folders/0n/vr0156r97pn7qh2v8sj2bfq40000gn/T/ipykernel_15901/4281931627.py:1: SyntaxWarning: str indices must be integers or slices, not float; perhaps you missed a comma?\n",
      "  'Hello world!'[0.5]\n"
     ]
    },
    {
     "ename": "TypeError",
     "evalue": "string indices must be integers",
     "output_type": "error",
     "traceback": [
      "\u001b[0;31m---------------------------------------------------------------------------\u001b[0m",
      "\u001b[0;31mTypeError\u001b[0m                                 Traceback (most recent call last)",
      "Input \u001b[0;32mIn [13]\u001b[0m, in \u001b[0;36m<cell line: 1>\u001b[0;34m()\u001b[0m\n\u001b[0;32m----> 1\u001b[0m \u001b[38;5;124;43m'\u001b[39;49m\u001b[38;5;124;43mHello world!\u001b[39;49m\u001b[38;5;124;43m'\u001b[39;49m\u001b[43m[\u001b[49m\u001b[38;5;241;43m0.5\u001b[39;49m\u001b[43m]\u001b[49m\n",
      "\u001b[0;31mTypeError\u001b[0m: string indices must be integers"
     ]
    }
   ],
   "source": [
    "'Hello world!'[0.5] #error, index cant br float"
   ]
  },
  {
   "cell_type": "code",
   "execution_count": 15,
   "id": "d7f2e25f",
   "metadata": {},
   "outputs": [
    {
     "data": {
      "text/plain": [
       "'Hello'"
      ]
     },
     "execution_count": 15,
     "metadata": {},
     "output_type": "execute_result"
    }
   ],
   "source": [
    "'Hello world!'[:5] #string slicing- from start till character no 5,ie:space"
   ]
  },
  {
   "cell_type": "code",
   "execution_count": 16,
   "id": "d652fd5c",
   "metadata": {},
   "outputs": [
    {
     "data": {
      "text/plain": [
       "'lo world!'"
      ]
     },
     "execution_count": 16,
     "metadata": {},
     "output_type": "execute_result"
    }
   ],
   "source": [
    "'Hello world!'[3:] #string slicing- from index 3, ie: char 4, ie: (second)'l' till whole string till last"
   ]
  },
  {
   "cell_type": "code",
   "execution_count": null,
   "id": "9b700859",
   "metadata": {},
   "outputs": [],
   "source": [
    "#7"
   ]
  },
  {
   "cell_type": "markdown",
   "id": "2ef7e013",
   "metadata": {},
   "source": [
    "Converts 'Hello' to uppercase->'HELLO'\n",
    ".\n",
    "\n",
    "Checks if 'Hello' is all uppercase or not and since it is combined with .upper(), the o/p is True\n",
    ".\n",
    "\n",
    "Converts all upper-cased 'HELLO' to lower case->'hello'"
   ]
  },
  {
   "cell_type": "code",
   "execution_count": 17,
   "id": "0e775ba4",
   "metadata": {},
   "outputs": [],
   "source": [
    "#8"
   ]
  },
  {
   "cell_type": "markdown",
   "id": "7d090d7b",
   "metadata": {},
   "source": [
    "['Remember,', 'remember,', 'the', 'fifth', 'of', 'November.']\n",
    "\n",
    "'There-can-be-only-one."
   ]
  },
  {
   "cell_type": "code",
   "execution_count": 18,
   "id": "833c1bc4",
   "metadata": {},
   "outputs": [],
   "source": [
    "#9"
   ]
  },
  {
   "cell_type": "code",
   "execution_count": 21,
   "id": "5a6d091a",
   "metadata": {},
   "outputs": [
    {
     "name": "stdout",
     "output_type": "stream",
     "text": [
      "The original string is : \n",
      " I love ineuron \n",
      "\n",
      "The center aligned string is : \n",
      "             I love ineuron              \n",
      "\n"
     ]
    }
   ],
   "source": [
    "#CENTER\n",
    "cstr = \"I love ineuron\"\n",
    "  \n",
    "# Printing the original string\n",
    "print (\"The original string is : \\n\", cstr, \"\\n\")\n",
    "  \n",
    "# Printing the center aligned string \n",
    "print (\"The center aligned string is : \")\n",
    "print (cstr.center(40), \"\\n\")\n",
    "  \n"
   ]
  },
  {
   "cell_type": "code",
   "execution_count": 23,
   "id": "3648ada7",
   "metadata": {},
   "outputs": [
    {
     "name": "stdout",
     "output_type": "stream",
     "text": [
      "The original string is : \n",
      " I love INEURON \n",
      "\n",
      "The left aligned string is : \n",
      "I love INEURON--------------------------\n"
     ]
    }
   ],
   "source": [
    "#LEFT-JUSTIFY\n",
    "lstr = \"I love INEURON\"\n",
    "  \n",
    "# Printing the original string\n",
    "print (\"The original string is : \\n\", lstr, \"\\n\")\n",
    "  \n",
    "# Printing the left aligned \n",
    "# string with \"-\" padding \n",
    "print (\"The left aligned string is : \")\n",
    "print (lstr.ljust(40, '-'))"
   ]
  },
  {
   "cell_type": "code",
   "execution_count": 25,
   "id": "13d89503",
   "metadata": {},
   "outputs": [
    {
     "name": "stdout",
     "output_type": "stream",
     "text": [
      "The original string is : \n",
      " I love INEURON \n",
      "\n",
      "The right aligned string is : \n",
      "--------------------------I love INEURON\n"
     ]
    }
   ],
   "source": [
    "#RIGHT-JUSTIFY\n",
    "rstr = \"I love INEURON\"\n",
    "  \n",
    "# Printing the original string\n",
    "print (\"The original string is : \\n\", rstr, \"\\n\")\n",
    "  \n",
    "# Printing the right aligned string\n",
    "# with \"-\" padding \n",
    "print (\"The right aligned string is : \")\n",
    "print (rstr.rjust(40, '-'))"
   ]
  },
  {
   "cell_type": "code",
   "execution_count": null,
   "id": "1114075f",
   "metadata": {},
   "outputs": [],
   "source": []
  },
  {
   "cell_type": "code",
   "execution_count": null,
   "id": "e1c06719",
   "metadata": {},
   "outputs": [],
   "source": [
    "#10\n",
    "\n",
    "trimStart() or trimEnd() method."
   ]
  }
 ],
 "metadata": {
  "kernelspec": {
   "display_name": "Python 3 (ipykernel)",
   "language": "python",
   "name": "python3"
  },
  "language_info": {
   "codemirror_mode": {
    "name": "ipython",
    "version": 3
   },
   "file_extension": ".py",
   "mimetype": "text/x-python",
   "name": "python",
   "nbconvert_exporter": "python",
   "pygments_lexer": "ipython3",
   "version": "3.10.0"
  }
 },
 "nbformat": 4,
 "nbformat_minor": 5
}
