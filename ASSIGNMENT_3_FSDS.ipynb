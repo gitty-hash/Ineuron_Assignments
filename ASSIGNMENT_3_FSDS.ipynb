{
 "cells": [
  {
   "cell_type": "markdown",
   "id": "9568d6ac",
   "metadata": {},
   "source": [
    "## QN 1"
   ]
  },
  {
   "cell_type": "markdown",
   "id": "1b5fe933",
   "metadata": {},
   "source": [
    "By using functions/methods, we can improve the readabiloty of the code by avoiding rewriting of the same logic/code again and again in a program.\n",
    "\n",
    "Also, we just need to pass the arguments of the fn(if any) and then it will evaluate and print us the desired outcome whithout even need ing to define each and every logic again and agin, so it is very convinient"
   ]
  },
  {
   "cell_type": "markdown",
   "id": "2b315608",
   "metadata": {},
   "source": [
    "## QN2"
   ]
  },
  {
   "cell_type": "markdown",
   "id": "fea08bac",
   "metadata": {},
   "source": [
    "when it is called, like for example we create a function\n",
    "\n",
    "def hello_world():\n",
    "\n",
    " #then only after calling it the function will run \n",
    "\n",
    "hello_world() \n",
    "\n"
   ]
  },
  {
   "cell_type": "markdown",
   "id": "77125c45",
   "metadata": {},
   "source": [
    "## Q3"
   ]
  },
  {
   "cell_type": "markdown",
   "id": "c7523ad6",
   "metadata": {},
   "source": [
    "def statement/keyword"
   ]
  },
  {
   "cell_type": "code",
   "execution_count": null,
   "id": "09616a9b",
   "metadata": {},
   "outputs": [],
   "source": [
    "Syntax: \n",
    "\n",
    "def fn_name():\n",
    "    #body of fn"
   ]
  },
  {
   "cell_type": "markdown",
   "id": "cd126132",
   "metadata": {},
   "source": [
    "## Q4"
   ]
  },
  {
   "cell_type": "markdown",
   "id": "d7687f8d",
   "metadata": {},
   "source": [
    "Function is a set of lines/script that is used to perform a particular task as mentioned inside its body.\n",
    "It may or may not be taking arguments/parameters as an input during its evaluation.\n",
    "\n",
    "Function call is an expression that passes control and arguments (if any) to the already defined function of that name, so that it can pass those arguments(if any) into wherever required as mentioned inside the fucntion body, and get the desired output"
   ]
  },
  {
   "cell_type": "markdown",
   "id": "196b5f15",
   "metadata": {},
   "source": [
    "## Q5"
   ]
  },
  {
   "cell_type": "markdown",
   "id": "eeb82b13",
   "metadata": {},
   "source": [
    "Only one global scopes are there in a Python program. There are multiple local scopes in a Python program. "
   ]
  },
  {
   "cell_type": "markdown",
   "id": "73360092",
   "metadata": {},
   "source": [
    "## Q6"
   ]
  },
  {
   "cell_type": "markdown",
   "id": "8a69eb80",
   "metadata": {},
   "source": [
    "\n",
    "   \n",
    "When the execution of the function terminates (returns), the variables scoped in local level are destroyed and are undefined.\n",
    "The local variable can be used outside the function any time after the function call completes"
   ]
  },
  {
   "cell_type": "markdown",
   "id": "0fcae9cd",
   "metadata": {},
   "source": [
    "## Q7"
   ]
  },
  {
   "cell_type": "code",
   "execution_count": null,
   "id": "52513389",
   "metadata": {},
   "outputs": [],
   "source": [
    "The value(can be boolean, int, float,string) that a function returns to the caller.\n",
    "It is used to end the execution of the function call.\n",
    "The statements after the return statements are not executed."
   ]
  },
  {
   "cell_type": "code",
   "execution_count": 3,
   "id": "7a232d8b",
   "metadata": {},
   "outputs": [
    {
     "data": {
      "text/plain": [
       "729"
      ]
     },
     "execution_count": 3,
     "metadata": {},
     "output_type": "execute_result"
    }
   ],
   "source": [
    "def cube(x):\n",
    "    \n",
    "    r=x**3\n",
    "    return r\n",
    "cube(9)"
   ]
  },
  {
   "cell_type": "markdown",
   "id": "26b453c7",
   "metadata": {},
   "source": [
    "## Q8"
   ]
  },
  {
   "cell_type": "markdown",
   "id": "f5cc3b0b",
   "metadata": {},
   "source": [
    "NoneType"
   ]
  },
  {
   "cell_type": "markdown",
   "id": "c47e05d5",
   "metadata": {},
   "source": [
    "## Q9"
   ]
  },
  {
   "cell_type": "markdown",
   "id": "c5737dd7",
   "metadata": {},
   "source": [
    "By using the \"global\" keyword, in order to declare which all variables are to be considered global\n",
    "\n"
   ]
  },
  {
   "cell_type": "code",
   "execution_count": 6,
   "id": "96d00cbc",
   "metadata": {},
   "outputs": [
    {
     "name": "stdout",
     "output_type": "stream",
     "text": [
      "Ineuron is cool\n"
     ]
    }
   ],
   "source": [
    "def myfunc():\n",
    "    \n",
    "    global x\n",
    "    x = \"cool\"\n",
    "\n",
    "myfunc()\n",
    "\n",
    "print(\"Ineuron is \" + x) #global made variable can be acessed from anywhere"
   ]
  },
  {
   "cell_type": "markdown",
   "id": "9ec3cdb7",
   "metadata": {},
   "source": [
    "## Q10"
   ]
  },
  {
   "cell_type": "markdown",
   "id": "fa3c25dc",
   "metadata": {},
   "source": [
    "None is a data type of its own (NoneType), AND IS USED TO DEFINE A NULL VALUE(OR NO VALUE)"
   ]
  },
  {
   "cell_type": "markdown",
   "id": "e3bcf1f6",
   "metadata": {},
   "source": [
    "## Q11"
   ]
  },
  {
   "cell_type": "code",
   "execution_count": 8,
   "id": "1134fde8",
   "metadata": {},
   "outputs": [
    {
     "ename": "ModuleNotFoundError",
     "evalue": "No module named 'areallyourpetsnamederic'",
     "output_type": "error",
     "traceback": [
      "\u001b[0;31m---------------------------------------------------------------------------\u001b[0m",
      "\u001b[0;31mModuleNotFoundError\u001b[0m                       Traceback (most recent call last)",
      "Input \u001b[0;32mIn [8]\u001b[0m, in \u001b[0;36m<cell line: 1>\u001b[0;34m()\u001b[0m\n\u001b[0;32m----> 1\u001b[0m \u001b[38;5;28;01mimport\u001b[39;00m \u001b[38;5;21;01mareallyourpetsnamederic\u001b[39;00m\n",
      "\u001b[0;31mModuleNotFoundError\u001b[0m: No module named 'areallyourpetsnamederic'"
     ]
    }
   ],
   "source": [
    "import areallyourpetsnamederic"
   ]
  },
  {
   "cell_type": "markdown",
   "id": "b6f6b349",
   "metadata": {},
   "source": [
    "It will show an error like no module fond, because it is not included under the Python documentary library"
   ]
  },
  {
   "cell_type": "markdown",
   "id": "56c54f5e",
   "metadata": {},
   "source": [
    "## Q12"
   ]
  },
  {
   "cell_type": "markdown",
   "id": "b218b519",
   "metadata": {},
   "source": [
    "This would be called as:  spam.bacon()"
   ]
  },
  {
   "cell_type": "markdown",
   "id": "00d6b697",
   "metadata": {},
   "source": [
    "## Q13"
   ]
  },
  {
   "cell_type": "markdown",
   "id": "72616507",
   "metadata": {},
   "source": [
    "We incorporate the usage of Exceptional handling whereby, by using the try-except statements we can handle the error(as Exception) and thereby prevent the program from crashing in between the execution process.\n",
    "\n",
    "\n",
    "\n",
    "examples of exception: FileNorFoundException, ArithmeticError,"
   ]
  },
  {
   "cell_type": "markdown",
   "id": "f52dd7a7",
   "metadata": {},
   "source": [
    "## Q14"
   ]
  },
  {
   "cell_type": "markdown",
   "id": "77ae5253",
   "metadata": {},
   "source": [
    "Here, exception handling is done like: the compiler first moves onto the try block; test code for an error which is written in the “try” statement, if an error is encountered, the contents of the “except” block are run(for which it is prepared to handle), else try block is run sucessfully. In this way, no error is throwed and it does not disrupt the flow of the program."
   ]
  },
  {
   "cell_type": "code",
   "execution_count": 11,
   "id": "9f05a299",
   "metadata": {},
   "outputs": [
    {
     "name": "stdout",
     "output_type": "stream",
     "text": [
      "3\n",
      "4\n",
      "6\n",
      "8\n",
      "4\n",
      "3\n",
      "this is my code and exception name is:  list index out of range\n",
      "Run this code asap\n"
     ]
    }
   ],
   "source": [
    "p=[3,4,6,8,4,3]\n",
    "\n",
    "try:    \n",
    "    for i in range(len(p)+1): #index out of bound, so error\n",
    "        print(p[i])\n",
    "    \n",
    "except Exception as e: #Exception is a class and e is its abbr. name\n",
    "    print(\"this is my code and exception name is: \",e) #exception handled\n",
    "print(\"Run this code asap\")"
   ]
  },
  {
   "cell_type": "code",
   "execution_count": null,
   "id": "882c8d78",
   "metadata": {},
   "outputs": [],
   "source": []
  }
 ],
 "metadata": {
  "kernelspec": {
   "display_name": "Python 3 (ipykernel)",
   "language": "python",
   "name": "python3"
  },
  "language_info": {
   "codemirror_mode": {
    "name": "ipython",
    "version": 3
   },
   "file_extension": ".py",
   "mimetype": "text/x-python",
   "name": "python",
   "nbconvert_exporter": "python",
   "pygments_lexer": "ipython3",
   "version": "3.10.0"
  }
 },
 "nbformat": 4,
 "nbformat_minor": 5
}
